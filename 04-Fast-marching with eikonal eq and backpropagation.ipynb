{
 "cells": [
  {
   "cell_type": "code",
   "execution_count": 1,
   "metadata": {},
   "outputs": [],
   "source": [
    "from __future__ import division"
   ]
  },
  {
   "cell_type": "code",
   "execution_count": 3,
   "metadata": {},
   "outputs": [],
   "source": [
    "from skimage.io import imread\n",
    "import matplotlib.pyplot as plt\n",
    "import numpy as np\n",
    "from PIL import Image, ImageOps\n",
    "from math import inf, sqrt"
   ]
  },
  {
   "cell_type": "code",
   "execution_count": 4,
   "metadata": {},
   "outputs": [],
   "source": [
    "from skimage import data, color\n",
    "from skimage.transform import rescale, resize"
   ]
  },
  {
   "cell_type": "code",
   "execution_count": 5,
   "metadata": {},
   "outputs": [],
   "source": [
    "im = Image.open(\"image/01_sample\")"
   ]
  },
  {
   "cell_type": "code",
   "execution_count": 6,
   "metadata": {},
   "outputs": [
    {
     "data": {
      "image/png": "[encoded data removed]",
      "text/plain": [
       "<PIL.PngImagePlugin.PngImageFile image mode=RGB size=258x186 at 0x7F2DF15B10F0>"
      ]
     },
     "execution_count": 6,
     "metadata": {},
     "output_type": "execute_result"
    }
   ],
   "source": [
    "im"
   ]
  },
  {
   "cell_type": "code",
   "execution_count": 7,
   "metadata": {},
   "outputs": [],
   "source": [
    "im_array = np.asarray(im.convert('L'))"
   ]
  },
  {
   "cell_type": "code",
   "execution_count": 8,
   "metadata": {},
   "outputs": [
    {
     "data": {
      "text/plain": [
       "(186, 258)"
      ]
     },
     "execution_count": 8,
     "metadata": {},
     "output_type": "execute_result"
    }
   ],
   "source": [
    "im_array.shape"
   ]
  },
  {
   "cell_type": "code",
   "execution_count": 9,
   "metadata": {},
   "outputs": [],
   "source": [
    "im_array = resize(im_array, (100, 100))*256"
   ]
  },
  {
   "cell_type": "code",
   "execution_count": 10,
   "metadata": {},
   "outputs": [
    {
     "data": {
      "image/png": "[encoded data removed]",
      "text/plain": [
       "<Figure size 432x288 with 1 Axes>"
      ]
     },
     "metadata": {
      "needs_background": "light"
     },
     "output_type": "display_data"
    }
   ],
   "source": [
    "plt.imshow(im_array)\n",
    "plt.show()"
   ]
  },
  {
   "cell_type": "markdown",
   "metadata": {},
   "source": [
    "## Fast marching with Djikstra"
   ]
  },
  {
   "cell_type": "code",
   "execution_count": 11,
   "metadata": {},
   "outputs": [],
   "source": [
    "W = im_array"
   ]
  },
  {
   "cell_type": "code",
   "execution_count": 12,
   "metadata": {},
   "outputs": [],
   "source": [
    "n = im_array.shape[0]"
   ]
  },
  {
   "cell_type": "code",
   "execution_count": 13,
   "metadata": {},
   "outputs": [],
   "source": [
    "x_start = np.where(np.sum(im_array<200, axis=0) != 0)[0][0]\n",
    "y_start = np.where(np.sum(im_array<200, axis=1) != 0)[0][0]\n",
    "start_point = (x_start, y_start)"
   ]
  },
  {
   "cell_type": "code",
   "execution_count": 14,
   "metadata": {},
   "outputs": [
    {
     "data": {
      "image/png": "[encoded data removed]",
      "text/plain": [
       "<Figure size 720x720 with 1 Axes>"
      ]
     },
     "metadata": {
      "needs_background": "light"
     },
     "output_type": "display_data"
    }
   ],
   "source": [
    "plt.figure(figsize=(10, 10))\n",
    "plt.scatter(start_point[0], start_point[1], color='r', edgecolor='k')\n",
    "plt.imshow(im_array, cmap='jet')\n",
    "plt.show()"
   ]
  },
  {
   "cell_type": "code",
   "execution_count": 15,
   "metadata": {},
   "outputs": [],
   "source": [
    "neigh = np.array([[1, -1, 0, 0], [0, 0,  1, -1]])"
   ]
  },
  {
   "cell_type": "code",
   "execution_count": 16,
   "metadata": {},
   "outputs": [],
   "source": [
    "### Operation of boundary enforcement\n",
    "boundary = lambda x: np.mod(x,n)\n",
    "# From 1d index to 2d coordinates\n",
    "ind2sub1 = lambda k: [int( (k-np.fmod(k,n))/n ), np.fmod(k,n)]\n",
    "# From 2d coordinates to 1d index\n",
    "sub2ind1 = lambda u: int( u[0]*n + u[1] )\n",
    "# Get Neigh 2d coordinates in constrained space\n",
    "Neigh = lambda k,i: sub2ind1(boundary(ind2sub1(k) + neigh[:,i]))"
   ]
  },
  {
   "cell_type": "code",
   "execution_count": 17,
   "metadata": {},
   "outputs": [],
   "source": [
    "def is_border(pixel_coord):\n",
    "    \"\"\"\n",
    "        Input:\n",
    "            pixel_coord: <np.array of length 2>\n",
    "    \"\"\"\n",
    "    global n\n",
    "    return bool(np.sum(pixel_coord==0) + np.sum(pixel_coord==n))"
   ]
  },
  {
   "cell_type": "code",
   "execution_count": 18,
   "metadata": {},
   "outputs": [],
   "source": [
    "def Neigh(k, i):\n",
    "    neigh_coord = boundary(ind2sub1(k) + neigh[:,i])\n",
    "    if is_border(neigh_coord):\n",
    "        return None\n",
    "    else:\n",
    "        return sub2ind1(neigh_coord)"
   ]
  },
  {
   "cell_type": "code",
   "execution_count": 19,
   "metadata": {},
   "outputs": [],
   "source": [
    "x0 = [y_start, x_start]\n",
    "# Initial stack\n",
    "I = [sub2ind1(x0)]\n",
    "\n",
    "# Inital distance to x0 (Update through min so inf)\n",
    "D = np.ones((n,n)) + inf\n",
    "u = ind2sub1(I)\n",
    "D[u[0],u[1]] = 0\n",
    "\n",
    "# To visit or not\n",
    "S = np.zeros((n,n))\n",
    "S[u[0],u[1]] = 1"
   ]
  },
  {
   "cell_type": "code",
   "execution_count": 20,
   "metadata": {},
   "outputs": [],
   "source": [
    "extract   = lambda x,I: x[I]"
   ]
  },
  {
   "cell_type": "code",
   "execution_count": 21,
   "metadata": {},
   "outputs": [],
   "source": [
    "def extract1d(x, I):\n",
    "    if I is None:\n",
    "        return inf\n",
    "    else: \n",
    "        return extract(x.flatten(),I)"
   ]
  },
  {
   "cell_type": "code",
   "execution_count": 22,
   "metadata": {
    "scrolled": false
   },
   "outputs": [
    {
     "data": {
      "image/png": "[encoded data removed]",
      "text/plain": [
       "<Figure size 432x288 with 1 Axes>"
      ]
     },
     "metadata": {
      "needs_background": "light"
     },
     "output_type": "display_data"
    },
    {
     "data": {
      "image/png": "[encoded data removed]",
      "text/plain": [
       "<Figure size 432x288 with 1 Axes>"
      ]
     },
     "metadata": {
      "needs_background": "light"
     },
     "output_type": "display_data"
    },
    {
     "name": "stdout",
     "output_type": "stream",
     "text": [
      "Done.\n"
     ]
    }
   ],
   "source": [
    "count = 0\n",
    "\n",
    "while I:\n",
    "    \n",
    "    count += 1\n",
    "    \n",
    "    j = np.argsort( extract1d(D,I)  )\n",
    "    if np.ndim(j)==0:\n",
    "        j = [j]   # make sure that j is a list a not a singleton\n",
    "        \n",
    "    j = j[0]\n",
    "    i = I[j]         \n",
    "    a = I.pop(j)\n",
    "    \n",
    "    u = ind2sub1(i);\n",
    "    S[u[0],u[1]] = -1\n",
    "    \n",
    "    \n",
    "    J = [] \n",
    "    for k in np.arange(0,4):\n",
    "        v_ = Neigh(i,k)\n",
    "        if v_ is None:\n",
    "             continue\n",
    "        j = v_\n",
    "        if extract1d(S,j)!=-1:\n",
    "            # add to the list of point to update\n",
    "            J.append(j)\n",
    "            if extract1d(S,j)==0:\n",
    "                # add to the front\n",
    "                u = ind2sub1(j)\n",
    "                S[u[0],u[1]] = 1\n",
    "                I.append(j)\n",
    "\n",
    "    DNeigh = lambda D,k: extract1d(D,Neigh(j,k))\n",
    "    \n",
    "    # Update distance of the points\n",
    "    for j in J:\n",
    "        \n",
    "        # Update by L1 min\n",
    "        dx = min(DNeigh(D,0), DNeigh(D,1))\n",
    "        dy = min(DNeigh(D,2), DNeigh(D,3))\n",
    "        u = ind2sub1(j)\n",
    "        w = extract1d(W,j);\n",
    "\n",
    "        Delta = 2*w - (dx-dy)**2\n",
    "        if (Delta>=0):\n",
    "            D[u[0],u[1]] = (dx + dy + sqrt(Delta))/ 2\n",
    "        else:\n",
    "            D[u[0],u[1]] = min(dx + w, dy + w)    \n",
    "            \n",
    "    if count % 8000 == 0:\n",
    "        plt.imshow(D)\n",
    "        plt.show()\n",
    "\n",
    "plt.imshow(D)\n",
    "plt.show()\n",
    "\n",
    "print('Done.')"
   ]
  },
  {
   "cell_type": "code",
   "execution_count": 23,
   "metadata": {},
   "outputs": [
    {
     "data": {
      "image/png": "[encoded data removed]",
      "text/plain": [
       "<Figure size 432x288 with 1 Axes>"
      ]
     },
     "metadata": {
      "needs_background": "light"
     },
     "output_type": "display_data"
    }
   ],
   "source": [
    "plt.imshow(D, cmap='jet')\n",
    "plt.show()"
   ]
  },
  {
   "cell_type": "markdown",
   "metadata": {},
   "source": [
    "## Once we have the distance map, let's do the backpropagation from the specified endpoint"
   ]
  },
  {
   "cell_type": "code",
   "execution_count": 24,
   "metadata": {},
   "outputs": [],
   "source": [
    "x_start = np.where(np.sum(im_array<200, axis=0) != 0)[0][0]\n",
    "y_start = np.where(np.sum(im_array<200, axis=1) != 0)[0][0]\n",
    "start_point = (x_start, y_start)"
   ]
  },
  {
   "cell_type": "code",
   "execution_count": 25,
   "metadata": {},
   "outputs": [],
   "source": [
    "x_end = np.where(np.sum(im_array<200, axis=0) != 0)[0][-1]\n",
    "y_end = np.where(np.sum(im_array<200, axis=1) != 0)[0][-1]\n",
    "end_point = (x_end, y_end)"
   ]
  },
  {
   "cell_type": "code",
   "execution_count": 26,
   "metadata": {},
   "outputs": [
    {
     "data": {
      "image/png": "[encoded data removed]",
      "text/plain": [
       "<Figure size 720x720 with 1 Axes>"
      ]
     },
     "metadata": {
      "needs_background": "light"
     },
     "output_type": "display_data"
    }
   ],
   "source": [
    "plt.figure(figsize=(10, 10))\n",
    "plt.title('User specified start and end points:')\n",
    "plt.scatter(start_point[0], start_point[1], color='g', edgecolor='k', s=200, marker='^', alpha=0.6, label='Start point')\n",
    "plt.scatter(end_point[0], end_point[1], color='r', edgecolor='k', s=200, marker='^', alpha=0.6, label='End point')\n",
    "plt.imshow(im_array, cmap='gray')\n",
    "plt.legend()\n",
    "plt.show()"
   ]
  },
  {
   "cell_type": "markdown",
   "metadata": {},
   "source": [
    "## Back Propagation"
   ]
  },
  {
   "cell_type": "code",
   "execution_count": 27,
   "metadata": {
    "scrolled": true
   },
   "outputs": [
    {
     "data": {
      "text/plain": [
       "((11, 16), (90, 73))"
      ]
     },
     "execution_count": 27,
     "metadata": {},
     "output_type": "execute_result"
    }
   ],
   "source": [
    "start_point, end_point"
   ]
  },
  {
   "cell_type": "code",
   "execution_count": 28,
   "metadata": {},
   "outputs": [],
   "source": [
    "min_path = [list(end_point)]\n",
    "\n",
    "max_iter = 300\n",
    "count = 0\n",
    "\n",
    "while np.prod(min_path[-1] == start_point)!=1 and count < max_iter:\n",
    "    \n",
    "    point = min_path[-1]\n",
    "    neighbors_mat = np.array(list(point)).reshape(2, 1) + neigh\n",
    "    \n",
    "    min_distance = np.inf\n",
    "\n",
    "    for k in range(4):\n",
    "        coord = neighbors_mat[:, k]\n",
    "        distance = D[coord[1], coord[0]]\n",
    "        if distance < min_distance:\n",
    "            min_distance = distance\n",
    "            next_point = coord\n",
    "    \n",
    "    min_path.append(list(next_point))\n",
    "    \n",
    "    count += 1\n",
    "\n",
    "min_path = np.array(min_path)"
   ]
  },
  {
   "cell_type": "code",
   "execution_count": 29,
   "metadata": {},
   "outputs": [
    {
     "data": {
      "image/png": "[encoded data removed]",
      "text/plain": [
       "<Figure size 720x720 with 1 Axes>"
      ]
     },
     "metadata": {
      "needs_background": "light"
     },
     "output_type": "display_data"
    }
   ],
   "source": [
    "plt.figure(figsize=(10, 10))\n",
    "plt.title('User specified start and end points:')\n",
    "plt.scatter(start_point[0], start_point[1], color='g', edgecolor='k', s=200, marker='^', alpha=0.6, label='Start point')\n",
    "plt.scatter(end_point[0], end_point[1], color='r', edgecolor='k', s=200, marker='^', alpha=0.6, label='End point')\n",
    "plt.scatter(min_path[:, 0], min_path[:, 1], color='r', edgecolor='k', alpha=0.3)\n",
    "plt.imshow(im_array, cmap='gray')\n",
    "plt.legend()\n",
    "plt.show()"
   ]
  },
  {
   "cell_type": "markdown",
   "metadata": {},
   "source": [
    "## The parametric path is the result we expected"
   ]
  },
  {
   "cell_type": "code",
   "execution_count": 30,
   "metadata": {},
   "outputs": [
    {
     "data": {
      "text/plain": [
       "array([[90, 73],\n",
       "       [90, 72],\n",
       "       [89, 72],\n",
       "       [89, 71],\n",
       "       [89, 70],\n",
       "       [88, 70],\n",
       "       [88, 69],\n",
       "       [87, 69],\n",
       "       [87, 68],\n",
       "       [86, 68],\n",
       "       [86, 67],\n",
       "       [86, 66],\n",
       "       [85, 66],\n",
       "       [85, 65],\n",
       "       [84, 65],\n",
       "       [84, 64],\n",
       "       [83, 64],\n",
       "       [83, 63],\n",
       "       [82, 63],\n",
       "       [82, 62],\n",
       "       [82, 61],\n",
       "       [81, 61],\n",
       "       [81, 60],\n",
       "       [80, 60],\n",
       "       [80, 59],\n",
       "       [79, 59],\n",
       "       [79, 58],\n",
       "       [78, 58],\n",
       "       [78, 57],\n",
       "       [77, 57],\n",
       "       [77, 56],\n",
       "       [76, 56],\n",
       "       [76, 55],\n",
       "       [75, 55],\n",
       "       [74, 55],\n",
       "       [74, 54],\n",
       "       [73, 54],\n",
       "       [73, 53],\n",
       "       [72, 53],\n",
       "       [72, 52],\n",
       "       [71, 52],\n",
       "       [71, 51],\n",
       "       [70, 51],\n",
       "       [69, 51],\n",
       "       [69, 50],\n",
       "       [68, 50],\n",
       "       [68, 49],\n",
       "       [67, 49],\n",
       "       [67, 48],\n",
       "       [66, 48],\n",
       "       [65, 48],\n",
       "       [65, 47],\n",
       "       [64, 47],\n",
       "       [64, 46],\n",
       "       [63, 46],\n",
       "       [62, 46],\n",
       "       [62, 45],\n",
       "       [61, 45],\n",
       "       [61, 44],\n",
       "       [60, 44],\n",
       "       [59, 44],\n",
       "       [58, 44],\n",
       "       [58, 43],\n",
       "       [57, 43],\n",
       "       [56, 43],\n",
       "       [55, 43],\n",
       "       [54, 43],\n",
       "       [53, 43],\n",
       "       [53, 42],\n",
       "       [52, 42],\n",
       "       [51, 42],\n",
       "       [50, 42],\n",
       "       [49, 42],\n",
       "       [48, 42],\n",
       "       [47, 42],\n",
       "       [46, 42],\n",
       "       [45, 42],\n",
       "       [45, 41],\n",
       "       [44, 41],\n",
       "       [43, 41],\n",
       "       [42, 41],\n",
       "       [41, 41],\n",
       "       [40, 41],\n",
       "       [39, 41],\n",
       "       [38, 41],\n",
       "       [37, 41],\n",
       "       [36, 41],\n",
       "       [35, 41],\n",
       "       [34, 41],\n",
       "       [34, 40],\n",
       "       [33, 40],\n",
       "       [32, 40],\n",
       "       [31, 40],\n",
       "       [30, 40],\n",
       "       [29, 40],\n",
       "       [29, 39],\n",
       "       [28, 39],\n",
       "       [27, 39],\n",
       "       [26, 39],\n",
       "       [26, 38],\n",
       "       [25, 38],\n",
       "       [24, 38],\n",
       "       [24, 37],\n",
       "       [23, 37],\n",
       "       [23, 36],\n",
       "       [22, 36],\n",
       "       [21, 36],\n",
       "       [21, 35],\n",
       "       [20, 35],\n",
       "       [20, 34],\n",
       "       [19, 34],\n",
       "       [19, 33],\n",
       "       [19, 32],\n",
       "       [18, 32],\n",
       "       [18, 31],\n",
       "       [17, 31],\n",
       "       [17, 30],\n",
       "       [17, 29],\n",
       "       [16, 29],\n",
       "       [16, 28],\n",
       "       [15, 28],\n",
       "       [15, 27],\n",
       "       [15, 26],\n",
       "       [14, 26],\n",
       "       [14, 25],\n",
       "       [14, 24],\n",
       "       [13, 24],\n",
       "       [13, 23],\n",
       "       [13, 22],\n",
       "       [12, 22],\n",
       "       [12, 21],\n",
       "       [12, 20],\n",
       "       [12, 19],\n",
       "       [12, 18],\n",
       "       [11, 18],\n",
       "       [11, 17],\n",
       "       [11, 16],\n",
       "       [11, 17],\n",
       "       [11, 16],\n",
       "       [11, 17],\n",
       "       [11, 16],\n",
       "       [11, 17],\n",
       "       [11, 16],\n",
       "       [11, 17],\n",
       "       [11, 16],\n",
       "       [11, 17],\n",
       "       [11, 16],\n",
       "       [11, 17],\n",
       "       [11, 16],\n",
       "       [11, 17],\n",
       "       [11, 16],\n",
       "       [11, 17],\n",
       "       [11, 16],\n",
       "       [11, 17],\n",
       "       [11, 16],\n",
       "       [11, 17],\n",
       "       [11, 16],\n",
       "       [11, 17],\n",
       "       [11, 16],\n",
       "       [11, 17],\n",
       "       [11, 16],\n",
       "       [11, 17],\n",
       "       [11, 16],\n",
       "       [11, 17],\n",
       "       [11, 16],\n",
       "       [11, 17],\n",
       "       [11, 16],\n",
       "       [11, 17],\n",
       "       [11, 16],\n",
       "       [11, 17],\n",
       "       [11, 16],\n",
       "       [11, 17],\n",
       "       [11, 16],\n",
       "       [11, 17],\n",
       "       [11, 16],\n",
       "       [11, 17],\n",
       "       [11, 16],\n",
       "       [11, 17],\n",
       "       [11, 16],\n",
       "       [11, 17],\n",
       "       [11, 16],\n",
       "       [11, 17],\n",
       "       [11, 16],\n",
       "       [11, 17],\n",
       "       [11, 16],\n",
       "       [11, 17],\n",
       "       [11, 16],\n",
       "       [11, 17],\n",
       "       [11, 16],\n",
       "       [11, 17],\n",
       "       [11, 16],\n",
       "       [11, 17],\n",
       "       [11, 16],\n",
       "       [11, 17],\n",
       "       [11, 16],\n",
       "       [11, 17],\n",
       "       [11, 16],\n",
       "       [11, 17],\n",
       "       [11, 16],\n",
       "       [11, 17],\n",
       "       [11, 16],\n",
       "       [11, 17],\n",
       "       [11, 16],\n",
       "       [11, 17],\n",
       "       [11, 16],\n",
       "       [11, 17],\n",
       "       [11, 16],\n",
       "       [11, 17],\n",
       "       [11, 16],\n",
       "       [11, 17],\n",
       "       [11, 16],\n",
       "       [11, 17],\n",
       "       [11, 16],\n",
       "       [11, 17],\n",
       "       [11, 16],\n",
       "       [11, 17],\n",
       "       [11, 16],\n",
       "       [11, 17],\n",
       "       [11, 16],\n",
       "       [11, 17],\n",
       "       [11, 16],\n",
       "       [11, 17],\n",
       "       [11, 16],\n",
       "       [11, 17],\n",
       "       [11, 16],\n",
       "       [11, 17],\n",
       "       [11, 16],\n",
       "       [11, 17],\n",
       "       [11, 16],\n",
       "       [11, 17],\n",
       "       [11, 16],\n",
       "       [11, 17],\n",
       "       [11, 16],\n",
       "       [11, 17],\n",
       "       [11, 16],\n",
       "       [11, 17],\n",
       "       [11, 16],\n",
       "       [11, 17],\n",
       "       [11, 16],\n",
       "       [11, 17],\n",
       "       [11, 16],\n",
       "       [11, 17],\n",
       "       [11, 16],\n",
       "       [11, 17],\n",
       "       [11, 16],\n",
       "       [11, 17],\n",
       "       [11, 16],\n",
       "       [11, 17],\n",
       "       [11, 16],\n",
       "       [11, 17],\n",
       "       [11, 16],\n",
       "       [11, 17],\n",
       "       [11, 16],\n",
       "       [11, 17],\n",
       "       [11, 16],\n",
       "       [11, 17],\n",
       "       [11, 16],\n",
       "       [11, 17],\n",
       "       [11, 16],\n",
       "       [11, 17],\n",
       "       [11, 16],\n",
       "       [11, 17],\n",
       "       [11, 16],\n",
       "       [11, 17],\n",
       "       [11, 16],\n",
       "       [11, 17],\n",
       "       [11, 16],\n",
       "       [11, 17],\n",
       "       [11, 16],\n",
       "       [11, 17],\n",
       "       [11, 16],\n",
       "       [11, 17],\n",
       "       [11, 16],\n",
       "       [11, 17],\n",
       "       [11, 16],\n",
       "       [11, 17],\n",
       "       [11, 16],\n",
       "       [11, 17],\n",
       "       [11, 16],\n",
       "       [11, 17],\n",
       "       [11, 16],\n",
       "       [11, 17],\n",
       "       [11, 16],\n",
       "       [11, 17],\n",
       "       [11, 16],\n",
       "       [11, 17],\n",
       "       [11, 16],\n",
       "       [11, 17],\n",
       "       [11, 16],\n",
       "       [11, 17],\n",
       "       [11, 16],\n",
       "       [11, 17],\n",
       "       [11, 16],\n",
       "       [11, 17],\n",
       "       [11, 16],\n",
       "       [11, 17],\n",
       "       [11, 16],\n",
       "       [11, 17],\n",
       "       [11, 16],\n",
       "       [11, 17],\n",
       "       [11, 16]])"
      ]
     },
     "execution_count": 30,
     "metadata": {},
     "output_type": "execute_result"
    }
   ],
   "source": [
    "min_path"
   ]
  }
 ],
 "metadata": {
  "kernelspec": {
   "display_name": "Python 3",
   "language": "python",
   "name": "python3"
  },
  "language_info": {
   "codemirror_mode": {
    "name": "ipython",
    "version": 3
   },
   "file_extension": ".py",
   "mimetype": "text/x-python",
   "name": "python",
   "nbconvert_exporter": "python",
   "pygments_lexer": "ipython3",
   "version": "3.6.8"
  }
 },
 "nbformat": 4,
 "nbformat_minor": 2
}
