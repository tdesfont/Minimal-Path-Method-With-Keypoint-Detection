{
 "cells": [
  {
   "cell_type": "code",
   "execution_count": 1,
   "metadata": {},
   "outputs": [],
   "source": [
    "from __future__ import division\n",
    "\n",
    "from skimage.io import imread\n",
    "import matplotlib.pyplot as plt\n",
    "import numpy as np\n",
    "from PIL import Image, ImageOps\n",
    "from math import inf, sqrt\n",
    "from skimage import data, color\n",
    "from skimage.transform import rescale, resize\n",
    "import warnings\n",
    "warnings.filterwarnings('ignore')"
   ]
  },
  {
   "cell_type": "code",
   "execution_count": 2,
   "metadata": {},
   "outputs": [],
   "source": [
    "class SinglePointFM:\n",
    "    \n",
    "    def __init__(self, n, origin_point, W):\n",
    "        \"\"\"\n",
    "            Class variables: I, D, S\n",
    "        \"\"\"\n",
    "        \n",
    "        self.n = n\n",
    "        self.start_point = origin_point\n",
    "        self.W = W\n",
    "        \n",
    "        self.neigh = np.array([[1, -1, 0, 0], [0, 0, 1, -1]])\n",
    "        \n",
    "        # Build I the initial stack\n",
    "        x0 = [self.start_point[1], self.start_point[0]]\n",
    "        self.I = [self.sub2ind1(x0)]\n",
    "        \n",
    "        # Initial distance to x0\n",
    "        D = np.ones((self.n, self.n)) + inf\n",
    "        u = self.ind2sub1(self.I)\n",
    "        D[u[0], u[1]] = 0\n",
    "        self.D = D\n",
    "        \n",
    "        # To visit or not\n",
    "        S = np.zeros((self.n, self.n))\n",
    "        S[u[0], u[1]] = 1\n",
    "        self.S = S\n",
    "    \n",
    "    def boundary(self, x):\n",
    "        return np.mod(x, self.n)\n",
    "        \n",
    "    def sub2ind1(self, u):\n",
    "        return int(u[0]*self.n + u[1])\n",
    "    \n",
    "    def ind2sub1(self, k):\n",
    "        return [int( (k-np.fmod(k,self.n))/self.n ), np.fmod(k,self.n)]\n",
    "    \n",
    "    def Neigh(self, k, i):\n",
    "        neigh_coord = self.boundary(self.ind2sub1(k) + self.neigh[:,i])\n",
    "        if self.is_border(neigh_coord):\n",
    "            return None\n",
    "        else:\n",
    "            return self.sub2ind1(neigh_coord)\n",
    "\n",
    "    def is_border(self, pixel_coord):\n",
    "        return bool(np.sum(pixel_coord==0) + np.sum(pixel_coord==self.n))\n",
    "\n",
    "    def extract(self, x, I):\n",
    "        return x[I]\n",
    "\n",
    "    def extract1d(self, x, I):\n",
    "        if I is None:\n",
    "            return inf\n",
    "        else:\n",
    "            return self.extract(x.flatten(), I)\n",
    "    \n",
    "    def DNeigh(self, D, k, j):\n",
    "        return self.extract1d(D, self.Neigh(j, k))\n",
    "    \n",
    "    def forward(self):\n",
    "        \n",
    "        if not self.I:\n",
    "            return\n",
    "        \n",
    "        j = np.argsort(self.extract1d(self.D, self.I))\n",
    "        if np.ndim(j) == 0:\n",
    "            j = [j]\n",
    "        \n",
    "        j = j[0]\n",
    "        i = self.I[j]\n",
    "        a = self.I.pop(j)\n",
    "        \n",
    "        u = self.ind2sub1(i)\n",
    "        self.S[u[0], u[1]] = 2 # Solved\n",
    "        \n",
    "        J = []\n",
    "        for k in np.arange(0, 4):\n",
    "            v_ = self.Neigh(i, k)\n",
    "            if v_ is None:\n",
    "                continue\n",
    "            j = v_\n",
    "            if self.extract1d(self.S, j) != 2: # Solved\n",
    "                J.append(j)\n",
    "                if self.extract1d(self.S, j) == 0: # Inactive\n",
    "                    # add to the front\n",
    "                    u = self.ind2sub1(j)\n",
    "                    self.S[u[0], u[1]] = 1 # Active\n",
    "                    self.I.append(j)\n",
    "        \n",
    "        for j in J:\n",
    "            \n",
    "            dx = min(self.DNeigh(self.D, 0, j), self.DNeigh(self.D, 1, j))\n",
    "            dy = min(self.DNeigh(self.D, 2, j), self.DNeigh(self.D, 3, j))\n",
    "            u = self.ind2sub1(j)\n",
    "            w = self.extract1d(self.W, j)\n",
    "            \n",
    "            Delta = 2*w - (dx-dy)**2\n",
    "            if Delta>=0:\n",
    "                self.D[u[0], u[1]] = (dx+dy+sqrt(Delta))/2\n",
    "            else:\n",
    "                self.D[u[0], u[1]] = min(dx+w, dy+w)\n",
    "        \n",
    "        # Calcul de la distance euclidienne\n",
    "        x = np.where(self.S==1)[0]\n",
    "        y = np.where(self.S==1)[1]\n",
    "        Front = np.array([y, x]).T\n",
    "        L = np.linalg.norm(Front - np.array(self.start_point), axis=1)\n",
    "        self.Front = Front\n",
    "        self.L = L\n",
    "                    \n",
    "    def single_stopping_crit_I(self):\n",
    "        return len(self.I) == 0\n",
    "\n",
    "    def single_stopping_crit_point_reached(self, point_to_reach):\n",
    "        return self.D[point_to_reach[1], point_to_reach[0]] < inf"
   ]
  },
  {
   "cell_type": "code",
   "execution_count": 3,
   "metadata": {},
   "outputs": [],
   "source": [
    "class FastMarching:\n",
    "    \n",
    "    def __init__(self, W, S, end_point=None):\n",
    "        \"\"\"\n",
    "            W: Potential of the image\n",
    "            S: Set of starting points\n",
    "            end_point: Specified end points\n",
    "        \"\"\"\n",
    "        self.n = W.shape[0]\n",
    "        self.W = W\n",
    "        self.Set = S \n",
    "        \n",
    "        # Geodesic distance\n",
    "        self.D = None\n",
    "        # Active/Inactive points\n",
    "        self.S = None\n",
    "        # L2 distance\n",
    "        self.L = None\n",
    "        \n",
    "        self.dict = {}\n",
    "        for origin_point in self.Set:\n",
    "            self.dict[origin_point] = SinglePointFM(self.n, origin_point, self.W)\n",
    "    \n",
    "    def forward(self):\n",
    "        \n",
    "        for origin_point in self.Set:\n",
    "            self.dict[origin_point].forward()\n",
    "                \n",
    "        D_min = np.ones((self.n, self.n)) + inf\n",
    "        S_max = np.ones((self.n, self.n)) - inf\n",
    "        \n",
    "        for origin_point in self.Set:\n",
    "            # get\n",
    "            D = self.dict[origin_point].D.copy()\n",
    "            S = self.dict[origin_point].S.copy()\n",
    "            # update\n",
    "            D_min = np.minimum(D_min, D)\n",
    "            S_max = np.maximum(S_max, S)\n",
    "        \n",
    "        self.D = D_min\n",
    "        self.S = S_max\n",
    "            \n",
    "        # Compute the L2 distance\n",
    "        distance_dict = {}\n",
    "        for origin_point in self.Set:\n",
    "            for d, p in zip(fm.dict[origin_point].L, fm.dict[origin_point].Front):\n",
    "                p = tuple(p)\n",
    "                if fm.S[p[1], p[0]] == 1:\n",
    "                    if p not in distance_dict:\n",
    "                        distance_dict[p] = d\n",
    "                    elif d < distance_dict[p]:\n",
    "                        distance_dict[p] = d\n",
    "        self.L = distance_dict            \n",
    "    \n",
    "    def stopping_crit_I(self):\n",
    "        return bool(np.prod([fm.dict[origin_point].single_stopping_crit_I() for origin_point in self.Set]))\n",
    "\n",
    "    def stopping_crit_point_reached(self, point_to_reach):\n",
    "        single_points_criterion = [fm.dict[origin_point].single_stopping_crit_point_reached(point_to_reach) \n",
    "                                   for origin_point in self.Set] \n",
    "        return bool(np.sum(single_points_criterion))\n",
    "    \n",
    "    def stopping_crit_lambda(self, lmbda):\n",
    "        if self.L is None:\n",
    "            return False\n",
    "        \n",
    "        max_l2 = sorted(self.L.items(), key = lambda t: t[1])[-1]\n",
    "        if max_l2[1] > lmbda:\n",
    "            return max_l2[0]\n",
    "        else:\n",
    "            return False"
   ]
  },
  {
   "cell_type": "markdown",
   "metadata": {},
   "source": [
    "## True Example"
   ]
  },
  {
   "cell_type": "code",
   "execution_count": 4,
   "metadata": {},
   "outputs": [],
   "source": [
    "# Image loader\n",
    "im = Image.open(\"image/01_sample\")\n",
    "im_array = np.asarray(im.convert('L'))\n",
    "im_array = resize(im_array, (100, 100))*256"
   ]
  },
  {
   "cell_type": "code",
   "execution_count": 5,
   "metadata": {},
   "outputs": [
    {
     "data": {
      "image/png": "[encoded data removed]",
      "text/plain": [
       "<PIL.PngImagePlugin.PngImageFile image mode=RGB size=258x186 at 0x7FD8A28CFE48>"
      ]
     },
     "execution_count": 5,
     "metadata": {},
     "output_type": "execute_result"
    }
   ],
   "source": [
    "im"
   ]
  },
  {
   "cell_type": "code",
   "execution_count": 6,
   "metadata": {},
   "outputs": [],
   "source": [
    "# Initialisation of potential function matrix and starting point\n",
    "\n",
    "# Potential\n",
    "W = im_array\n",
    "n = im_array.shape[0]\n",
    "# Matrix\n",
    "p1 = (33, 40)\n",
    "p2 = (38, 41)\n",
    "S = [p1]"
   ]
  },
  {
   "cell_type": "code",
   "execution_count": 7,
   "metadata": {
    "scrolled": false
   },
   "outputs": [
    {
     "name": "stdout",
     "output_type": "stream",
     "text": [
      "(43, 41)\n",
      "(53, 42)\n",
      "(23, 38)\n",
      "(63, 45)\n",
      "(17, 29)\n",
      "(12, 20)\n",
      "(7, 29)\n",
      "(12, 38)\n",
      "(54, 50)\n",
      "(72, 51)\n",
      "(79, 59)\n",
      "(11, 10)\n",
      "(86, 67)\n",
      "(91, 76)\n",
      "(80, 44)\n"
     ]
    }
   ],
   "source": [
    "S = [(33, 40)]\n",
    "for i in range(15):\n",
    "    fm = FastMarching(W**3, S)\n",
    "    lmbda = 10\n",
    "    while not fm.stopping_crit_lambda(lmbda):\n",
    "        fm.forward()\n",
    "    keypoint = fm.stopping_crit_lambda(lmbda)\n",
    "    print(keypoint)\n",
    "    S.append(keypoint)"
   ]
  },
  {
   "cell_type": "code",
   "execution_count": 8,
   "metadata": {},
   "outputs": [
    {
     "data": {
      "image/png": "[encoded data removed]",
      "text/plain": [
       "<Figure size 432x288 with 1 Axes>"
      ]
     },
     "metadata": {
      "needs_background": "light"
     },
     "output_type": "display_data"
    }
   ],
   "source": [
    "plt.imshow(fm.W, cmap='gray')\n",
    "plt.imshow(fm.D, cmap='jet')\n",
    "plt.show()"
   ]
  },
  {
   "cell_type": "code",
   "execution_count": 9,
   "metadata": {},
   "outputs": [],
   "source": [
    "points_array = [list(i) for i in S]\n",
    "points_array = np.array(points_array)"
   ]
  },
  {
   "cell_type": "code",
   "execution_count": 10,
   "metadata": {},
   "outputs": [
    {
     "data": {
      "image/png": "[encoded data removed]",
      "text/plain": [
       "<Figure size 432x288 with 1 Axes>"
      ]
     },
     "metadata": {
      "needs_background": "light"
     },
     "output_type": "display_data"
    }
   ],
   "source": [
    "plt.imshow(fm.W, cmap='gray')\n",
    "plt.scatter(points_array[:, 0], points_array[:, 1], edgecolor='k', alpha=0.6)\n",
    "plt.show()"
   ]
  },
  {
   "cell_type": "markdown",
   "metadata": {},
   "source": [
    "Attention à des changements sur la fonction de potentiel, il vaut mieux avoir des potentiels très marqués."
   ]
  }
 ],
 "metadata": {
  "kernelspec": {
   "display_name": "Python 3",
   "language": "python",
   "name": "python3"
  },
  "language_info": {
   "codemirror_mode": {
    "name": "ipython",
    "version": 3
   },
   "file_extension": ".py",
   "mimetype": "text/x-python",
   "name": "python",
   "nbconvert_exporter": "python",
   "pygments_lexer": "ipython3",
   "version": "3.6.8"
  }
 },
 "nbformat": 4,
 "nbformat_minor": 2
}
