{
 "cells": [
  {
   "cell_type": "code",
   "execution_count": 1,
   "metadata": {
    "collapsed": true
   },
   "outputs": [],
   "source": [
    "from __future__ import division\n",
    "\n",
    "from skimage.io import imread\n",
    "import matplotlib.pyplot as plt\n",
    "import numpy as np\n",
    "from PIL import Image, ImageOps\n",
    "from math import inf, sqrt\n",
    "from skimage import data, color\n",
    "from skimage.transform import rescale, resize"
   ]
  },
  {
   "cell_type": "code",
   "execution_count": 2,
   "metadata": {
    "collapsed": true
   },
   "outputs": [],
   "source": [
    "class FastMarching:\n",
    "\n",
    "    def __init__(self, W, start_point, end_point=None):\n",
    "        self.n = W.shape[0]\n",
    "        self.W = W\n",
    "        self.start_point = start_point\n",
    "        self.end_point = end_point\n",
    "        self.neigh = np.array([[1, -1, 0, 0], [0, 0,  1, -1]])\n",
    "        self.D = None\n",
    "        self.S = None\n",
    "\n",
    "    def boundary(self, x):\n",
    "        return np.mod(x, self.n)\n",
    "\n",
    "    def ind2sub1(self, k):\n",
    "        return [int( (k-np.fmod(k,self.n))/self.n ), np.fmod(k,self.n)]\n",
    "\n",
    "    def sub2ind1(self, u):\n",
    "        return int(u[0]*self.n + u[1])\n",
    "\n",
    "    def Neigh(self, k, i):\n",
    "        neigh_coord = self.boundary(self.ind2sub1(k) + self.neigh[:,i])\n",
    "        if self.is_border(neigh_coord):\n",
    "            return None\n",
    "        else:\n",
    "            return self.sub2ind1(neigh_coord)\n",
    "\n",
    "    def is_border(self, pixel_coord):\n",
    "        return bool(np.sum(pixel_coord==0) + np.sum(pixel_coord==self.n))\n",
    "\n",
    "    def extract(self, x, I):\n",
    "        return x[I]\n",
    "\n",
    "    def extract1d(self, x, I):\n",
    "        if I is None:\n",
    "            return inf\n",
    "        else:\n",
    "            return self.extract(x.flatten(), I)\n",
    "\n",
    "    def fast_marching(self, lmbda=5, max_iter=inf, end_point=None):\n",
    "        \n",
    "        x0 = [self.start_point[1], self.start_point[0]]\n",
    "        I = [self.sub2ind1(x0)]\n",
    "\n",
    "        # Initial distance to x0\n",
    "        D = np.ones((self.n, self.n)) + inf\n",
    "        u = self.ind2sub1(I)\n",
    "        D[u[0], u[1]] = 0\n",
    "\n",
    "        # To visit or not\n",
    "        S = np.zeros((self.n, self.n))\n",
    "        S[u[0], u[1]] = 1\n",
    "\n",
    "        count = 0\n",
    "        keypoint_found = False\n",
    "        endpoint_found = False\n",
    "\n",
    "        while I and count < max_iter and not keypoint_found and not endpoint_found:\n",
    "\n",
    "            count += 1\n",
    "            j = np.argsort(self.extract1d(D, I))\n",
    "            if np.ndim(j) == 0:\n",
    "                j = [j]\n",
    "\n",
    "            j = j[0]\n",
    "            i = I[j]\n",
    "            a = I.pop(j)\n",
    "\n",
    "            u = self.ind2sub1(i)\n",
    "            S[u[0], u[1]] = -1\n",
    "\n",
    "            J = []\n",
    "            for k in np.arange(0, 4):\n",
    "                v_ = self.Neigh(i, k)\n",
    "                if v_ is None:\n",
    "                    continue\n",
    "                j = v_\n",
    "                if self.extract1d(S, j) != -1:\n",
    "                    J.append(j)\n",
    "                    if self.extract1d(S, j) == 0:\n",
    "                        # add to the front\n",
    "                        u = self.ind2sub1(j)\n",
    "                        S[u[0], u[1]] = 1\n",
    "                        I.append(j)\n",
    "\n",
    "            DNeigh = lambda D, k: self.extract1d(D, self.Neigh(j, k))\n",
    "\n",
    "            for j in J:\n",
    "\n",
    "                # Update by L1 min\n",
    "                dx = min(DNeigh(D,0), DNeigh(D,1))\n",
    "                dy = min(DNeigh(D,2), DNeigh(D,3))\n",
    "                u = self.ind2sub1(j)\n",
    "                w = self.extract1d(self.W,j)\n",
    "\n",
    "                Delta = 2*w - (dx-dy)**2\n",
    "                if (Delta>=0):\n",
    "                    D[u[0],u[1]] = (dx + dy + sqrt(Delta))/ 2\n",
    "                else:\n",
    "                    D[u[0],u[1]] = min(dx + w, dy + w)\n",
    "            \n",
    "            # Stopping criterion for keypoint\n",
    "            if lmbda < inf:\n",
    "                # Calcul de la distance euclidienne\n",
    "                x = np.where(S==1)[0]\n",
    "                y = np.where(S==1)[1]\n",
    "\n",
    "                Front = np.array([y, x]).T\n",
    "                L = np.linalg.norm(Front - np.array(start_point), axis=1)\n",
    "\n",
    "                keypoint_index = np.argmax(L)\n",
    "                keypoint = Front[keypoint_index]\n",
    "                max_euclidian_distance = L[keypoint_index]\n",
    "                self.keypoint = keypoint\n",
    "\n",
    "                if max_euclidian_distance > lmbda:\n",
    "                    keypoint_found = True\n",
    "            \n",
    "            if end_point is not None:\n",
    "                if D[end_point[1], end_point[0]] < inf:\n",
    "                    endpoint_found = True\n",
    "                    \n",
    "        self.D = D\n",
    "        self.S = S\n",
    "        \n",
    "\n",
    "    def visualize_D(self):\n",
    "        if self.D is not None:\n",
    "            plt.figure(figsize=(10, 10))\n",
    "            plt.title('Distance')\n",
    "            plt.scatter(self.start_point[0], self.start_point[1])\n",
    "            plt.imshow(self.D, cmap='jet')\n",
    "            plt.show()\n",
    "\n",
    "    def visualize_S(self):\n",
    "        if self.S is not None:\n",
    "            fig = plt.figure(figsize=(10, 10))\n",
    "            plt.title('Active and Inactive points')\n",
    "            plt.scatter(self.start_point[0], self.start_point[1])\n",
    "            im = plt.imshow(self.S, cmap='jet')\n",
    "            fig.colorbar(im, orientation='horizontal')\n",
    "            plt.show()\n",
    "\n",
    "    def backpropagate(self, end_point, max_iter=300):\n",
    "        self.end_point = end_point\n",
    "        \n",
    "        min_path = [list(self.end_point)]\n",
    "        count = 0\n",
    "\n",
    "        while np.prod(min_path[-1]==self.start_point) != 1 and count < max_iter:\n",
    "\n",
    "            point = min_path[-1]\n",
    "            neighbors_mat = np.array(list(point)).reshape(2, 1) + self.neigh\n",
    "            min_distance = np.inf\n",
    "\n",
    "            for k in range(4):\n",
    "                coord = neighbors_mat[:, k]\n",
    "                distance = self.D[coord[1], coord[0]]\n",
    "                if distance < min_distance:\n",
    "                    min_distance = distance\n",
    "                    next_point = coord\n",
    "\n",
    "            min_path.append(list(next_point))\n",
    "\n",
    "            count += 1\n",
    "\n",
    "        self.min_path = np.array(min_path)\n",
    "\n",
    "    def visualize_min_path(self):\n",
    "\n",
    "        start_point = self.start_point\n",
    "        end_point = self.end_point\n",
    "\n",
    "        plt.figure(figsize=(10, 10))\n",
    "        plt.title('User specified start and end points:')\n",
    "        plt.scatter(start_point[0], start_point[1], color='g', edgecolor='k', s=200, marker='^', alpha=0.6, label='Start point')\n",
    "        plt.scatter(end_point[0], end_point[1], color='r', edgecolor='k', s=200, marker='^', alpha=0.6, label='End point')\n",
    "        plt.scatter(self.min_path[:, 0], self.min_path[:, 1], color='r', edgecolor='k', alpha=0.3)\n",
    "        plt.imshow(self.W, cmap='gray')\n",
    "        plt.legend()\n",
    "        plt.show()"
   ]
  },
  {
   "cell_type": "code",
   "execution_count": 3,
   "metadata": {},
   "outputs": [
    {
     "name": "stderr",
     "output_type": "stream",
     "text": [
      "/home/tdesfont/.local/lib/python3.5/site-packages/skimage/transform/_warps.py:84: UserWarning: The default mode, 'constant', will be changed to 'reflect' in skimage 0.15.\n",
      "  warn(\"The default mode, 'constant', will be changed to 'reflect' in \"\n"
     ]
    }
   ],
   "source": [
    "# Image loader\n",
    "im = Image.open(\"image/01_sample\")\n",
    "im_array = np.asarray(im.convert('L'))\n",
    "im_array = resize(im_array, (100, 100))*256"
   ]
  },
  {
   "cell_type": "code",
   "execution_count": 4,
   "metadata": {
    "collapsed": true
   },
   "outputs": [],
   "source": [
    "# Initialisation of potential function matrix and starting point\n",
    "\n",
    "# Potential\n",
    "W = im_array\n",
    "n = im_array.shape[0]\n",
    "# Matrix\n",
    "x_start = np.where(np.sum(im_array<200, axis=0) != 0)[0][0]\n",
    "y_start = np.where(np.sum(im_array<200, axis=1) != 0)[0][0]\n",
    "p = (x_start, y_start)\n",
    "S = [p]"
   ]
  },
  {
   "cell_type": "markdown",
   "metadata": {},
   "source": [
    "## Open Curve Detection"
   ]
  },
  {
   "cell_type": "code",
   "execution_count": 5,
   "metadata": {
    "collapsed": true
   },
   "outputs": [],
   "source": [
    "# Open Curve Detection using the Fast Marching Module\n",
    "# Input W, S\n",
    "StopDetection = False\n",
    "lmbda = 5"
   ]
  },
  {
   "cell_type": "code",
   "execution_count": 6,
   "metadata": {
    "collapsed": true
   },
   "outputs": [],
   "source": [
    "# FMM(S, lmbda)\n",
    "start_point = S[0]\n",
    "fm = FastMarching(W, start_point)\n",
    "fm.fast_marching(lmbda=5)\n",
    "k1 = tuple(fm.keypoint)"
   ]
  },
  {
   "cell_type": "code",
   "execution_count": 7,
   "metadata": {},
   "outputs": [
    {
     "data": {
      "text/plain": [
       "(12, 21)"
      ]
     },
     "execution_count": 7,
     "metadata": {},
     "output_type": "execute_result"
    }
   ],
   "source": [
    "k1"
   ]
  },
  {
   "cell_type": "code",
   "execution_count": 8,
   "metadata": {},
   "outputs": [
    {
     "data": {
      "image/png": "[encoded data removed]",
      "text/plain": [
       "<matplotlib.figure.Figure at 0x7f288fb09630>"
      ]
     },
     "metadata": {},
     "output_type": "display_data"
    }
   ],
   "source": [
    "plt.imshow(W, cmap='gray')\n",
    "plt.imshow(fm.D, cmap='jet')\n",
    "plt.scatter(start_point[0], start_point[1], edgecolor='k', alpha=1, color='g', label='starting point')\n",
    "plt.scatter(k1[0], k1[1], edgecolor='k', alpha=1, color='r', label='end point')\n",
    "plt.show()"
   ]
  },
  {
   "cell_type": "code",
   "execution_count": 9,
   "metadata": {
    "collapsed": true
   },
   "outputs": [],
   "source": [
    "fm.backpropagate(k1)"
   ]
  },
  {
   "cell_type": "code",
   "execution_count": 10,
   "metadata": {},
   "outputs": [
    {
     "data": {
      "image/png": "[encoded data removed]",
      "text/plain": [
       "<matplotlib.figure.Figure at 0x7f288fa37da0>"
      ]
     },
     "metadata": {},
     "output_type": "display_data"
    }
   ],
   "source": [
    "plt.figure(figsize=(15, 15))\n",
    "plt.imshow(W, cmap='gray')\n",
    "plt.scatter(fm.min_path[:, 0], fm.min_path[:, 1], edgecolor='k', color='y', alpha=0.5, s=30)\n",
    "plt.scatter(start_point[0], start_point[1], edgecolor='k', alpha=1, color='g', label='starting point', s=80)\n",
    "plt.scatter(k1[0], k1[1], edgecolor='k', alpha=1, color='r', label='end point', s=80)\n",
    "plt.legend()\n",
    "plt.show()"
   ]
  },
  {
   "cell_type": "code",
   "execution_count": 11,
   "metadata": {
    "collapsed": true
   },
   "outputs": [],
   "source": [
    "C = fm.min_path"
   ]
  },
  {
   "cell_type": "code",
   "execution_count": 12,
   "metadata": {},
   "outputs": [
    {
     "name": "stdout",
     "output_type": "stream",
     "text": [
      "[(11, 16), (12, 21)]\n"
     ]
    }
   ],
   "source": [
    "S.append(k1)\n",
    "print(S)"
   ]
  },
  {
   "cell_type": "code",
   "execution_count": 13,
   "metadata": {
    "collapsed": true
   },
   "outputs": [],
   "source": [
    "m = {}"
   ]
  },
  {
   "cell_type": "code",
   "execution_count": 14,
   "metadata": {
    "collapsed": true
   },
   "outputs": [],
   "source": [
    "m[start_point] = k1\n",
    "m[k1] = start_point"
   ]
  },
  {
   "cell_type": "code",
   "execution_count": 15,
   "metadata": {},
   "outputs": [
    {
     "data": {
      "text/plain": [
       "(12, 21)"
      ]
     },
     "execution_count": 15,
     "metadata": {},
     "output_type": "execute_result"
    }
   ],
   "source": [
    "k1"
   ]
  },
  {
   "cell_type": "code",
   "execution_count": 16,
   "metadata": {},
   "outputs": [
    {
     "data": {
      "text/plain": [
       "{(11, 16): (12, 21), (12, 21): (11, 16)}"
      ]
     },
     "execution_count": 16,
     "metadata": {},
     "output_type": "execute_result"
    }
   ],
   "source": [
    "m"
   ]
  },
  {
   "cell_type": "markdown",
   "metadata": {},
   "source": [
    "**Find keypoint k2**"
   ]
  },
  {
   "cell_type": "code",
   "execution_count": 17,
   "metadata": {},
   "outputs": [
    {
     "data": {
      "text/plain": [
       "[(11, 16), (12, 21)]"
      ]
     },
     "execution_count": 17,
     "metadata": {},
     "output_type": "execute_result"
    }
   ],
   "source": [
    "S"
   ]
  },
  {
   "cell_type": "code",
   "execution_count": 18,
   "metadata": {
    "collapsed": true
   },
   "outputs": [],
   "source": [
    "# FMM(S, lmbda)\n",
    "start_point = S[1]\n",
    "fm = FastMarching(W, start_point)\n",
    "fm.fast_marching(lmbda=5)\n",
    "k2 = tuple(fm.keypoint)"
   ]
  },
  {
   "cell_type": "code",
   "execution_count": 19,
   "metadata": {},
   "outputs": [
    {
     "data": {
      "text/plain": [
       "(11, 16)"
      ]
     },
     "execution_count": 19,
     "metadata": {},
     "output_type": "execute_result"
    }
   ],
   "source": [
    "k2 # Symmétrie"
   ]
  },
  {
   "cell_type": "code",
   "execution_count": 20,
   "metadata": {},
   "outputs": [
    {
     "data": {
      "image/png": "[encoded data removed]",
      "text/plain": [
       "<matplotlib.figure.Figure at 0x7f288fb095c0>"
      ]
     },
     "metadata": {},
     "output_type": "display_data"
    }
   ],
   "source": [
    "plt.imshow(W, cmap='gray')\n",
    "plt.imshow(fm.D, cmap='jet')\n",
    "plt.scatter(start_point[0], start_point[1], edgecolor='k', alpha=1, color='g', label='starting point')\n",
    "plt.scatter(k2[0], k2[1], edgecolor='k', alpha=1, color='r', label='end point')\n",
    "plt.show()"
   ]
  }
 ],
 "metadata": {
  "kernelspec": {
   "display_name": "Python 3",
   "language": "python",
   "name": "python3"
  },
  "language_info": {
   "codemirror_mode": {
    "name": "ipython",
    "version": 3
   },
   "file_extension": ".py",
   "mimetype": "text/x-python",
   "name": "python",
   "nbconvert_exporter": "python",
   "pygments_lexer": "ipython3",
   "version": "3.6.8"
  }
 },
 "nbformat": 4,
 "nbformat_minor": 2
}
