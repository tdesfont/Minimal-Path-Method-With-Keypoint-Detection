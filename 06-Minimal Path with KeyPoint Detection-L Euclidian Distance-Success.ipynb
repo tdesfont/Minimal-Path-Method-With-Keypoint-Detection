{
 "cells": [
  {
   "cell_type": "code",
   "execution_count": 118,
   "metadata": {
    "collapsed": true
   },
   "outputs": [],
   "source": [
    "from skimage.io import imread\n",
    "import matplotlib.pyplot as plt\n",
    "import numpy as np\n",
    "from PIL import Image, ImageOps\n",
    "from __future__ import division\n",
    "from math import inf, sqrt"
   ]
  },
  {
   "cell_type": "code",
   "execution_count": 119,
   "metadata": {
    "collapsed": true
   },
   "outputs": [],
   "source": [
    "from skimage import data, color\n",
    "from skimage.transform import rescale, resize"
   ]
  },
  {
   "cell_type": "code",
   "execution_count": 120,
   "metadata": {
    "collapsed": true
   },
   "outputs": [],
   "source": [
    "im = Image.open(\"image/01_sample\")"
   ]
  },
  {
   "cell_type": "code",
   "execution_count": 121,
   "metadata": {},
   "outputs": [
    {
     "data": {
      "image/png": "[encoded data removed]",
      "text/plain": [
       "<PIL.PngImagePlugin.PngImageFile image mode=RGB size=258x186 at 0x7F1D3BC80A20>"
      ]
     },
     "execution_count": 121,
     "metadata": {},
     "output_type": "execute_result"
    }
   ],
   "source": [
    "im"
   ]
  },
  {
   "cell_type": "code",
   "execution_count": 122,
   "metadata": {},
   "outputs": [
    {
     "name": "stdout",
     "output_type": "stream",
     "text": [
      "(186, 258)\n"
     ]
    }
   ],
   "source": [
    "im_array = np.asarray(im.convert('L'))\n",
    "print(im_array.shape)"
   ]
  },
  {
   "cell_type": "code",
   "execution_count": 123,
   "metadata": {},
   "outputs": [
    {
     "name": "stderr",
     "output_type": "stream",
     "text": [
      "/home/tdesfont/.local/lib/python3.5/site-packages/skimage/transform/_warps.py:84: UserWarning: The default mode, 'constant', will be changed to 'reflect' in skimage 0.15.\n",
      "  warn(\"The default mode, 'constant', will be changed to 'reflect' in \"\n"
     ]
    }
   ],
   "source": [
    "im_array = resize(im_array, (100, 100))*256"
   ]
  },
  {
   "cell_type": "code",
   "execution_count": 124,
   "metadata": {},
   "outputs": [
    {
     "data": {
      "image/png": "[encoded data removed]",
      "text/plain": [
       "<matplotlib.figure.Figure at 0x7f1d3b742c50>"
      ]
     },
     "metadata": {},
     "output_type": "display_data"
    }
   ],
   "source": [
    "plt.imshow(im_array)\n",
    "plt.show()"
   ]
  },
  {
   "cell_type": "markdown",
   "metadata": {},
   "source": [
    "## Minimal Path with KeyPoint Detection"
   ]
  },
  {
   "cell_type": "code",
   "execution_count": 125,
   "metadata": {
    "collapsed": true
   },
   "outputs": [],
   "source": [
    "W = im_array\n",
    "n = im_array.shape[0]"
   ]
  },
  {
   "cell_type": "code",
   "execution_count": 126,
   "metadata": {
    "collapsed": true
   },
   "outputs": [],
   "source": [
    "x_start = np.where(np.sum(im_array<200, axis=0) != 0)[0][0]\n",
    "y_start = np.where(np.sum(im_array<200, axis=1) != 0)[0][0]\n",
    "start_point = (x_start, y_start)"
   ]
  },
  {
   "cell_type": "code",
   "execution_count": 127,
   "metadata": {
    "collapsed": true
   },
   "outputs": [],
   "source": [
    "start_point = (28, 39)"
   ]
  },
  {
   "cell_type": "code",
   "execution_count": 128,
   "metadata": {},
   "outputs": [
    {
     "data": {
      "image/png": "[encoded data removed]",
      "text/plain": [
       "<matplotlib.figure.Figure at 0x7f1d3b7f8b38>"
      ]
     },
     "metadata": {},
     "output_type": "display_data"
    }
   ],
   "source": [
    "plt.figure(figsize=(10, 10))\n",
    "plt.scatter(start_point[0], start_point[1], color='g', \n",
    "            edgecolor='k', alpha=0.6, marker='^', s=500)\n",
    "plt.imshow(im_array, cmap='jet')\n",
    "plt.show()"
   ]
  },
  {
   "cell_type": "code",
   "execution_count": 129,
   "metadata": {
    "collapsed": true
   },
   "outputs": [],
   "source": [
    "neigh = np.array([[1, -1, 0, 0], [0, 0,  1, -1]])"
   ]
  },
  {
   "cell_type": "code",
   "execution_count": 130,
   "metadata": {
    "collapsed": true
   },
   "outputs": [],
   "source": [
    "### Operation of boundary enforcement\n",
    "boundary = lambda x: np.mod(x,n)\n",
    "# From 1d index to 2d coordinates\n",
    "ind2sub1 = lambda k: [int( (k-np.fmod(k,n))/n ), np.fmod(k,n)]\n",
    "# From 2d coordinates to 1d index\n",
    "sub2ind1 = lambda u: int( u[0]*n + u[1] )\n",
    "# Get Neigh 2d coordinates in constrained space\n",
    "Neigh = lambda k,i: sub2ind1(boundary(ind2sub1(k) + neigh[:,i]))"
   ]
  },
  {
   "cell_type": "code",
   "execution_count": 131,
   "metadata": {
    "collapsed": true
   },
   "outputs": [],
   "source": [
    "def is_border(pixel_coord):\n",
    "    \"\"\"\n",
    "        Input:\n",
    "            pixel_coord: <np.array of length 2>\n",
    "    \"\"\"\n",
    "    global n\n",
    "    return bool(np.sum(pixel_coord==0) + np.sum(pixel_coord==n))"
   ]
  },
  {
   "cell_type": "code",
   "execution_count": 132,
   "metadata": {
    "collapsed": true
   },
   "outputs": [],
   "source": [
    "def Neigh(k, i):\n",
    "    neigh_coord = boundary(ind2sub1(k) + neigh[:,i])\n",
    "    if is_border(neigh_coord):\n",
    "        return None\n",
    "    else:\n",
    "        return sub2ind1(neigh_coord)"
   ]
  },
  {
   "cell_type": "code",
   "execution_count": 133,
   "metadata": {
    "collapsed": true
   },
   "outputs": [],
   "source": [
    "lmbda = 6"
   ]
  },
  {
   "cell_type": "code",
   "execution_count": 134,
   "metadata": {},
   "outputs": [
    {
     "data": {
      "image/png": "[encoded data removed]",
      "text/plain": [
       "<matplotlib.figure.Figure at 0x7f1d3b765940>"
      ]
     },
     "metadata": {},
     "output_type": "display_data"
    },
    {
     "name": "stdout",
     "output_type": "stream",
     "text": [
      "Done.\n"
     ]
    }
   ],
   "source": [
    "x0 = [start_point[1], start_point[0]]\n",
    "# Initial stack\n",
    "I = [sub2ind1(x0)]\n",
    "\n",
    "# Inital distance to x0 (Update through min so inf)\n",
    "D = np.ones((n,n)) + inf\n",
    "u = ind2sub1(I)\n",
    "D[u[0],u[1]] = 0\n",
    "\n",
    "# To visit or not\n",
    "S = np.zeros((n,n))\n",
    "S[u[0],u[1]] = 1\n",
    "\n",
    "extract   = lambda x,I: x[I]\n",
    "\n",
    "def extract1d(x, I):\n",
    "    if I is None:\n",
    "        return inf\n",
    "    else: \n",
    "        return extract(x.flatten(),I)\n",
    "    \n",
    "count = 0\n",
    "keypoint_found = False\n",
    "\n",
    "while I and count<inf and not keypoint_found:\n",
    "    \n",
    "    count += 1\n",
    "    \n",
    "    j = np.argsort( extract1d(D,I)  )\n",
    "    if np.ndim(j)==0:\n",
    "        j = [j]   # make sure that j is a list a not a singleton\n",
    "        \n",
    "    j = j[0]\n",
    "    i = I[j]         \n",
    "    a = I.pop(j)\n",
    "    \n",
    "    u = ind2sub1(i);\n",
    "    S[u[0],u[1]] = -1\n",
    "    \n",
    "    \n",
    "    J = [] \n",
    "    for k in np.arange(0,4):\n",
    "        v_ = Neigh(i,k)\n",
    "        if v_ is None:\n",
    "             continue\n",
    "        j = v_\n",
    "        if extract1d(S,j)!=-1:\n",
    "            # add to the list of point to update\n",
    "            J.append(j)\n",
    "            if extract1d(S,j)==0:\n",
    "                # add to the front\n",
    "                u = ind2sub1(j)\n",
    "                S[u[0],u[1]] = 1\n",
    "                I.append(j)\n",
    "\n",
    "    DNeigh = lambda D,k: extract1d(D,Neigh(j,k))\n",
    "    \n",
    "    # Update distance of the points\n",
    "    for j in J:\n",
    "        \n",
    "        # Update by L1 min\n",
    "        dx = min(DNeigh(D,0), DNeigh(D,1))\n",
    "        dy = min(DNeigh(D,2), DNeigh(D,3))\n",
    "        u = ind2sub1(j)\n",
    "        w = extract1d(W,j);\n",
    "\n",
    "        Delta = 2*w - (dx-dy)**2\n",
    "        if (Delta>=0):\n",
    "            D[u[0],u[1]] = (dx + dy + sqrt(Delta))/ 2\n",
    "        else:\n",
    "            D[u[0],u[1]] = min(dx + w, dy + w)\n",
    "    \n",
    "    # Calcul de la distance euclidienne\n",
    "    x = np.where(S==1)[0]\n",
    "    y = np.where(S==1)[1]\n",
    "    \n",
    "    Front = np.array([y, x]).T\n",
    "    L = np.linalg.norm(Front - np.array(start_point), axis=1)\n",
    "    \n",
    "    keypoint_index = np.argmax(L)\n",
    "    keypoint = Front[keypoint_index]\n",
    "    max_euclidian_distance = L[keypoint_index]\n",
    "    \n",
    "    if max_euclidian_distance > lmbda:\n",
    "        keypoint_found = True\n",
    "\n",
    "plt.imshow(D)\n",
    "plt.show()\n",
    "\n",
    "print('Done.')"
   ]
  },
  {
   "cell_type": "code",
   "execution_count": 135,
   "metadata": {},
   "outputs": [
    {
     "data": {
      "image/png": "[encoded data removed]",
      "text/plain": [
       "<matplotlib.figure.Figure at 0x7f1d3b7655c0>"
      ]
     },
     "metadata": {},
     "output_type": "display_data"
    }
   ],
   "source": [
    "plt.imshow(W)\n",
    "plt.scatter(keypoint[0], keypoint[1])\n",
    "plt.imshow(D)\n",
    "plt.show()"
   ]
  }
 ],
 "metadata": {
  "kernelspec": {
   "display_name": "Python 3",
   "language": "python",
   "name": "python3"
  },
  "language_info": {
   "codemirror_mode": {
    "name": "ipython",
    "version": 3
   },
   "file_extension": ".py",
   "mimetype": "text/x-python",
   "name": "python",
   "nbconvert_exporter": "python",
   "pygments_lexer": "ipython3",
   "version": "3.6.8"
  }
 },
 "nbformat": 4,
 "nbformat_minor": 2
}
